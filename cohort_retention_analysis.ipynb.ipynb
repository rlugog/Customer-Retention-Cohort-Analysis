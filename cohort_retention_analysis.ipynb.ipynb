{
 "cells": [
  {
   "cell_type": "markdown",
   "metadata": {},
   "source": [
    "¡Hola Rodrigo! Como te va?\n",
    "\n",
    "Mi nombre es Emanuel Fitta! Un gusto conocerte, seré tu revisor en este proyecto.\n",
    "\n",
    "A continuación un poco sobre la modalidad de revisión que usaremos:\n",
    "\n",
    "Cuando enccuentro un error por primera vez, simplemente lo señalaré, te dejaré encontrarlo y arreglarlo tú cuenta. Además, a lo largo del texto iré haciendo algunas observaciones sobre mejora en tu código y también haré comentarios sobre tus percepciones sobre el tema. Pero si aún no puedes realizar esta tarea, te daré una pista más precisa en la próxima iteración y también algunos ejemplos prácticos. Estaré abierto a comentarios y discusiones sobre el tema.\n",
    "\n",
    "Encontrará mis comentarios a continuación: **no los mueva, modifique ni elimine**.\n",
    "\n",
    "Puedes encontrar mis comentarios en cuadros verdes, amarillos o rojos como este:\n",
    "\n",
    "<div class=\"alert alert-block alert-success\">\n",
    "<b>Comentario del revisor.</b> <a class=\"tocSkip\"></a>\n",
    "\n",
    "Exito. Todo se ha hecho de forma exitosa.\n",
    "</div>\n",
    "\n",
    "<div class=\"alert alert-block alert-warning\">\n",
    "<b>Comentario del revisor.</b> <a class=\"tocSkip\"></a>\n",
    "\n",
    "Observación. Algunas recomendaciones.\n",
    "</div>\n",
    "\n",
    "<div class=\"alert alert-block alert-danger\">\n",
    "\n",
    "<b>Comentario del revisor.</b> <a class=\"tocSkip\"></a>\n",
    "\n",
    "Necesita arreglos. Este apartado necesita algunas correcciones. El trabajo no puede ser aceptado con comentarios rojos. \n",
    "</div>\n",
    "\n",
    "Puedes responder utilizando esto:\n",
    "\n",
    "<div class=\"alert alert-block alert-info\">\n",
    "<b>Respuesta de estudiante.</b> <a class=\"tocSkip\"></a>\n",
    "</div>"
   ]
  },
  {
   "cell_type": "code",
   "execution_count": null,
   "metadata": {},
   "outputs": [],
   "source": []
  },
  {
   "cell_type": "code",
   "execution_count": null,
   "metadata": {},
   "outputs": [],
   "source": []
  },
  {
   "cell_type": "code",
   "execution_count": null,
   "metadata": {},
   "outputs": [],
   "source": []
  },
  {
   "cell_type": "markdown",
   "metadata": {},
   "source": [
    "<div class=\"alert alert-block alert-success\">\n",
    "<b>Comentario del revisor. (Iteración 1) </b> <a class=\"tocSkip\"></a>\n",
    "\n",
    "Muy bien Rodrigo, antes que nada quiero felicitarte por el enorme esfuerzo que has puesto en este proyecto, así como por lo completo que está el mismo. Hay un par de detalles que podemos mejorar, el primero tiene que ver con lo gráficos, veo que en algunos casos olvidaste colocar los títulos y nombres de los ejes, recuerda que aunque esto nos formalmente obligatorio, si que le da un mejor aspecto a los mismos y los hace más faciles de leer. Por otro lado, aunque colocoaste tus observaciones en algunos puntos del proyecto, te recomendaría que esto lo hicieras en cada gráfico y cada resultado importante que vayas obteniendo.  Sin más por el momento, te deseo que tengas un excelente día y de nuevo felicidades por el gran trabajo."
   ]
  },
  {
   "cell_type": "markdown",
   "metadata": {},
   "source": [
    "<div class=\"alert alert-block alert-info\">\n",
    "<b>Respuesta de estudiante.</b> <a class=\"tocSkip\"></a>\n",
    "</div>  Muchas gracias por los comentarios Emanuel los tomaré en cuenta para futuras ocasiones y espero también tengas un excelente el día. Gracias por su tiempo de revisión."
   ]
  },
  {
   "cell_type": "markdown",
   "metadata": {},
   "source": [
    "# Tabla de contenidos\n",
    "1. [Intrucciones](#Intrucciones)\n",
    "2. [Introducción](#Introducción)\n",
    "3. [Análisis](#Análisis)\n",
    "    - [Costo de adquisición de clientes (CAC)](#CAC)\n",
    "    - [Retorno sobre la inversión en marketing (ROMI)](#ROMI)\n",
    "4. [Visualización de datos](#VISUALIZACIÓN)\n",
    "5. [Conclusiones y recomendaciones](#Conclusiones)\n"
   ]
  },
  {
   "cell_type": "markdown",
   "metadata": {},
   "source": [
    "# Análisis de Marketing\n",
    "## Intrucciones\n"
   ]
  },
  {
   "cell_type": "markdown",
   "metadata": {},
   "source": [
    "Instrucciones para completar el proyecto\n",
    "Paso 1. Acceda los datos y prepáralos para el análisis\n",
    "\n",
    "Almacena los datos de visitas, pedidos y gastos en variables.  Optimiza los datos para el análisis. Asegúrate de que cada columna contenga el tipo de datos correcto. \n",
    "Rutas de archivos: \n",
    "\n",
    "/datasets/visits_log_us.csv Acceda el dataset\n",
    "/datasets/orders_log_us.csv Acceda el dataset\n",
    "/datasets/costs_us.csv Acceda el dataset\n",
    "\n",
    "Paso 2. Haz informes y calcula métricas \n",
    "\n",
    "Visitas:\n",
    "\n",
    "¿Cuántas personas lo usan cada día, semana y mes?\n",
    "¿Cuántas sesiones hay por día? (Un usuario puede tener más de una sesión).\n",
    "¿Cuál es la duración de cada sesión?\n",
    "¿Con qué frecuencia los usuarios regresan?\n",
    "Ventas:\n",
    "\n",
    "¿Cuándo empieza la gente a comprar? (En el análisis de KPI, generalmente nos interesa saber el tiempo que transcurre entre el registro y la conversión, es decir, cuando el usuario se convierte en cliente. Por ejemplo, si el registro y la primera compra ocurren el mismo día, el usuario podría caer en la categoría Conversion 0d. Si la primera compra ocurre al día siguiente, será Conversion 1d. Puedes usar cualquier enfoque que te permita comparar las conversiones de diferentes cohortes para que puedas determinar qué cohorte o canal de marketing es más efectivo.)\n",
    "¿Cuántos pedidos hacen durante un período de tiempo dado?\n",
    "¿Cuál es el tamaño promedio de compra?\n",
    "¿Cuánto dinero traen? (LTV)\n",
    "Marketing:\n",
    " 1. ¿Cuánto dinero se gastó?  (Total/por fuente de adquisición/a lo largo del tiempo) \n",
    " 2. ¿Cuál fue el costo de adquisición de clientes de cada una de las fuentes?\n",
    " 3. ¿Cuán rentables eran las inversiones? (ROMI)\n",
    "\n",
    "Traza gráficos para mostrar cómo difieren estas métricas para varios dispositivos y fuentes de anuncios y cómo cambian con el tiempo. \n",
    "\n",
    "Paso 3. Escribe una conclusión: aconseja a los expertos de marketing cuánto dinero invertir y dónde\n",
    "\n",
    "¿Qué fuentes/plataformas recomendarías?  Fundamenta tu selección: ¿en qué métricas te enfocaste?  ¿Por qué? ¿Qué conclusiones sacaste después de encontrar los valores métricos?\n",
    "\n",
    "Formato: Completa la tarea en un Jupyter Notebook. Inserta el código en las celdas code y las explicaciones de texto en las celdas markdown. Aplica formato y encabezados.\n",
    "\n",
    "Descripción de los datos\n",
    "La tabla visits (registros del servidor con datos sobre las visitas al sitio web):\n",
    "\n",
    "Uid: identificador único del usuario.\n",
    "Device: dispositivo del usuario.\n",
    "Start Ts: fecha y hora de inicio de la sesión.\n",
    "End Ts: fecha y hora de término de la sesión.\n",
    "Source Id: identificador de la fuente de anuncios de la que proviene el usuario.\n",
    "Todas las fechas de esta tabla están en formato AAAA-MM-DD.\n",
    "\n",
    "La tabla orders (datos sobre pedidos):\n",
    "\n",
    "Uid: identificador único del usuario que realiza un pedido.\n",
    "Buy Ts: fecha y hora del pedido. Revenue: el ingreso de Showz por el pedido.\n",
    "La tabla costs (datos sobre gastos de marketing):\n",
    "\n",
    "source_id: identificador de la fuente de anuncios.\n",
    "dt: fecha.\n",
    "costs: gastos en esta fuente de anuncios en este día."
   ]
  },
  {
   "cell_type": "code",
   "execution_count": 5,
   "metadata": {},
   "outputs": [
    {
     "name": "stdout",
     "output_type": "stream",
     "text": [
      "<class 'pandas.core.frame.DataFrame'>\n",
      "RangeIndex: 359400 entries, 0 to 359399\n",
      "Data columns (total 5 columns):\n",
      " #   Column     Non-Null Count   Dtype         \n",
      "---  ------     --------------   -----         \n",
      " 0   Device     359400 non-null  object        \n",
      " 1   End Ts     359400 non-null  datetime64[ns]\n",
      " 2   Source Id  359400 non-null  int64         \n",
      " 3   Start Ts   359400 non-null  datetime64[ns]\n",
      " 4   Uid        359400 non-null  uint64        \n",
      "dtypes: datetime64[ns](2), int64(1), object(1), uint64(1)\n",
      "memory usage: 13.7+ MB\n",
      "None\n",
      "<class 'pandas.core.frame.DataFrame'>\n",
      "RangeIndex: 50415 entries, 0 to 50414\n",
      "Data columns (total 3 columns):\n",
      " #   Column   Non-Null Count  Dtype         \n",
      "---  ------   --------------  -----         \n",
      " 0   Buy Ts   50415 non-null  datetime64[ns]\n",
      " 1   Revenue  50415 non-null  float64       \n",
      " 2   Uid      50415 non-null  uint64        \n",
      "dtypes: datetime64[ns](1), float64(1), uint64(1)\n",
      "memory usage: 1.2 MB\n",
      "None\n",
      "<class 'pandas.core.frame.DataFrame'>\n",
      "RangeIndex: 2542 entries, 0 to 2541\n",
      "Data columns (total 3 columns):\n",
      " #   Column     Non-Null Count  Dtype         \n",
      "---  ------     --------------  -----         \n",
      " 0   source_id  2542 non-null   int64         \n",
      " 1   dt         2542 non-null   datetime64[ns]\n",
      " 2   costs      2542 non-null   float64       \n",
      "dtypes: datetime64[ns](1), float64(1), int64(1)\n",
      "memory usage: 59.7 KB\n",
      "None\n",
      "    Device              End Ts  Source Id            Start Ts  \\\n",
      "0    touch 2017-12-20 17:38:00          4 2017-12-20 17:20:00   \n",
      "1  desktop 2018-02-19 17:21:00          2 2018-02-19 16:53:00   \n",
      "2    touch 2017-07-01 01:54:00          5 2017-07-01 01:54:00   \n",
      "3  desktop 2018-05-20 11:23:00          9 2018-05-20 10:59:00   \n",
      "4  desktop 2017-12-27 14:06:00          3 2017-12-27 14:06:00   \n",
      "\n",
      "                    Uid  \n",
      "0  16879256277535980062  \n",
      "1    104060357244891740  \n",
      "2   7459035603376831527  \n",
      "3  16174680259334210214  \n",
      "4   9969694820036681168  \n",
      "               Buy Ts  Revenue                   Uid\n",
      "0 2017-06-01 00:10:00    17.00  10329302124590727494\n",
      "1 2017-06-01 00:25:00     0.55  11627257723692907447\n",
      "2 2017-06-01 00:27:00     0.37  17903680561304213844\n",
      "3 2017-06-01 00:29:00     0.55  16109239769442553005\n",
      "4 2017-06-01 07:58:00     0.37  14200605875248379450\n",
      "   source_id         dt  costs\n",
      "0          1 2017-06-01  75.20\n",
      "1          1 2017-06-02  62.25\n",
      "2          1 2017-06-03  36.53\n",
      "3          1 2017-06-04  55.00\n",
      "4          1 2017-06-05  57.08\n"
     ]
    }
   ],
   "source": [
    "import pandas as pd\n",
    "\n",
    "# Cargar los datos\n",
    "visits_data = pd.read_csv('/datasets/visits_log_us.csv')\n",
    "orders_data = pd.read_csv('/datasets/orders_log_us.csv')\n",
    "costs_data = pd.read_csv('/datasets/costs_us.csv')\n",
    "\n",
    "# Optimizar tipos de datos\n",
    "# Convertir marcas de tiempo a datetime\n",
    "visits_data['Start Ts'] = pd.to_datetime(visits_data['Start Ts'])\n",
    "visits_data['End Ts'] = pd.to_datetime(visits_data['End Ts'])\n",
    "orders_data['Buy Ts'] = pd.to_datetime(orders_data['Buy Ts'])\n",
    "costs_data['dt'] = pd.to_datetime(costs_data['dt'])\n",
    "\n",
    "# Confirmar tipos optimizados\n",
    "print(visits_data.info())\n",
    "print(orders_data.info())\n",
    "print(costs_data.info())\n",
    "\n",
    "# Mostrar una muestra de cada DataFrame para verificar\n",
    "print(visits_data.head())\n",
    "print(orders_data.head())\n",
    "print(costs_data.head())\n"
   ]
  },
  {
   "cell_type": "markdown",
   "metadata": {},
   "source": [
    "<div class=\"alert alert-block alert-success\">\n",
    "<b>Comentario del revisor. (Iteración 1) </b> <a class=\"tocSkip\"></a>\n",
    "\n",
    "Muy bien Rodrigo, empezamos bien, utilizaste de manera correcta los métodos info y head para dar un vistazo general del dataframe de visitas. Además, me agrada el cambio de tipo de dato de las columnas de fechas. Muy bien!"
   ]
  },
  {
   "cell_type": "markdown",
   "metadata": {},
   "source": [
    "Las columnas Start Ts, End Ts, Buy Ts, y dt ahora tienen el tipo datetime64[ns].\n",
    "\n",
    "Uid se mantuvo como tipo uint64. Revenue y costs son de tipo float64. Source Id y source_id son de tipo int64. \n"
   ]
  },
  {
   "cell_type": "markdown",
   "metadata": {},
   "source": [
    "## Introducción\n",
    "Lo has hecho de maravilla en el curso de TripleTen y te han ofrecido hacer prácticas en el departamento de analítica de Showz, una empresa de venta de entradas de eventos. Tu primera tarea es ayudar a optimizar los gastos de marketing. \n",
    "\n",
    "Cuentas con:\n",
    "\n",
    "registros del servidor con datos sobre las visitas a Showz desde enero de 2017 hasta diciembre de 2018;\n",
    "un archivo con los pedidos en este periodo;\n",
    "estadísticas de gastos de marketing.\n",
    "Lo que vas a investigar: \n",
    "\n",
    "cómo los clientes usan el servicio;\n",
    "cuándo empiezan a comprar;\n",
    "cuánto dinero aporta cada cliente a la compañía;\n",
    "cuándo los ingresos cubren el costo de adquisición de los clientes.\n"
   ]
  },
  {
   "cell_type": "markdown",
   "metadata": {},
   "source": [
    "VISITAS: ¿Cuántas personas lo usan cada día, semana y mes?"
   ]
  },
  {
   "cell_type": "markdown",
   "metadata": {},
   "source": [
    "## Análisis"
   ]
  },
  {
   "cell_type": "code",
   "execution_count": 6,
   "metadata": {},
   "outputs": [
    {
     "name": "stdout",
     "output_type": "stream",
     "text": [
      "Usuarios únicos por día:\n",
      "Start Ts\n",
      "2017-06-01    605\n",
      "2017-06-02    608\n",
      "2017-06-03    445\n",
      "2017-06-04    476\n",
      "2017-06-05    820\n",
      "Name: Uid, dtype: int64\n",
      "\n",
      "Usuarios únicos por semana:\n",
      "Start Ts\n",
      "2017-05-29/2017-06-04    2021\n",
      "2017-06-05/2017-06-11    4129\n",
      "2017-06-12/2017-06-18    2812\n",
      "2017-06-19/2017-06-25    2878\n",
      "2017-06-26/2017-07-02    3064\n",
      "Freq: W-SUN, Name: Uid, dtype: int64\n",
      "\n",
      "Usuarios únicos por mes:\n",
      "Start Ts\n",
      "2017-06    13259\n",
      "2017-07    14183\n",
      "2017-08    11631\n",
      "2017-09    18975\n",
      "2017-10    29692\n",
      "Freq: M, Name: Uid, dtype: int64\n"
     ]
    }
   ],
   "source": [
    "# Usuarios únicos por día\n",
    "daily_users = visits_data.groupby(visits_data['Start Ts'].dt.date)['Uid'].nunique()\n",
    "\n",
    "# Usuarios únicos por semana\n",
    "weekly_users = visits_data.groupby(visits_data['Start Ts'].dt.to_period('W'))['Uid'].nunique()\n",
    "\n",
    "# Usuarios únicos por mes\n",
    "monthly_users = visits_data.groupby(visits_data['Start Ts'].dt.to_period('M'))['Uid'].nunique()\n",
    "\n",
    "# Mostrar resultados\n",
    "print(\"Usuarios únicos por día:\")\n",
    "print(daily_users.head())\n",
    "print(\"\\nUsuarios únicos por semana:\")\n",
    "print(weekly_users.head())\n",
    "print(\"\\nUsuarios únicos por mes:\")\n",
    "print(monthly_users.head())\n"
   ]
  },
  {
   "cell_type": "markdown",
   "metadata": {},
   "source": [
    "<div class=\"alert alert-block alert-success\">\n",
    "<b>Comentario del revisor. (Iteración 1) </b> <a class=\"tocSkip\"></a>\n",
    "\n",
    "Muy bien, hiciste un buen trabajo calculando los usuarios unicos por cada periodo. "
   ]
  },
  {
   "cell_type": "markdown",
   "metadata": {},
   "source": [
    "¿Cuántas sesiones hay por día?"
   ]
  },
  {
   "cell_type": "code",
   "execution_count": 7,
   "metadata": {},
   "outputs": [
    {
     "name": "stdout",
     "output_type": "stream",
     "text": [
      "Sesiones totales por día:\n",
      "Start Ts\n",
      "2017-06-01    664\n",
      "2017-06-02    658\n",
      "2017-06-03    477\n",
      "2017-06-04    510\n",
      "2017-06-05    893\n",
      "Name: Uid, dtype: int64\n"
     ]
    }
   ],
   "source": [
    "# Sesiones totales por día\n",
    "daily_sessions = visits_data.groupby(visits_data['Start Ts'].dt.date)['Uid'].count()\n",
    "\n",
    "# Mostrar resultados\n",
    "print(\"Sesiones totales por día:\")\n",
    "print(daily_sessions.head())\n"
   ]
  },
  {
   "cell_type": "markdown",
   "metadata": {},
   "source": [
    "<div class=\"alert alert-block alert-success\">\n",
    "<b>Comentario del revisor. (Iteración 1) </b> <a class=\"tocSkip\"></a>\n",
    "\n",
    "Perfecto, uid es el identificador único de cada sesión en la tabla de visitas."
   ]
  },
  {
   "cell_type": "markdown",
   "metadata": {},
   "source": [
    "¿Cuál es la duración de cada sesión?"
   ]
  },
  {
   "cell_type": "code",
   "execution_count": 8,
   "metadata": {},
   "outputs": [
    {
     "name": "stdout",
     "output_type": "stream",
     "text": [
      "Duración promedio de las sesiones: 643.0256872565387\n",
      "Distribución de la duración de las sesiones:\n"
     ]
    },
    {
     "data": {
      "text/plain": [
       "<AxesSubplot:>"
      ]
     },
     "execution_count": 8,
     "metadata": {},
     "output_type": "execute_result"
    },
    {
     "data": {
      "image/png": "[encoded data removed]",
      "text/plain": [
       "<Figure size 640x480 with 1 Axes>"
      ]
     },
     "metadata": {},
     "output_type": "display_data"
    }
   ],
   "source": [
    "# Calcular la duración de las sesiones en segundos\n",
    "visits_data['Session Duration'] = (visits_data['End Ts'] - visits_data['Start Ts']).dt.total_seconds()\n",
    "\n",
    "# Mostrar duración promedio y distribución\n",
    "print(\"Duración promedio de las sesiones:\", visits_data['Session Duration'].mean())\n",
    "print(\"Distribución de la duración de las sesiones:\")\n",
    "visits_data['Session Duration'].hist(bins=50)\n"
   ]
  },
  {
   "cell_type": "markdown",
   "metadata": {},
   "source": [
    "<div class=\"alert alert-block alert-warning\">\n",
    "<b>Comentario del revisor. (Iteración 1) </b> <a class=\"tocSkip\"></a>\n",
    "\n",
    "Eso! La manera en que calculaste la duración de cada sesión es correcta. Y el gráfico está super bien. El detalle aquí es que tal vez deberíamos colocar titulos al gráfico y nombres a los ejes. Además estaría buenísimo que pudieras colocar tus interpretaciones del mismo gráfico."
   ]
  },
  {
   "cell_type": "markdown",
   "metadata": {},
   "source": [
    "¿Con qué frecuencia los usuarios regresan?"
   ]
  },
  {
   "cell_type": "code",
   "execution_count": 9,
   "metadata": {},
   "outputs": [
    {
     "name": "stdout",
     "output_type": "stream",
     "text": [
      "Frecuencia de visitas por usuario:\n",
      "count    228169.000000\n",
      "mean          1.575148\n",
      "std           4.646800\n",
      "min           1.000000\n",
      "25%           1.000000\n",
      "50%           1.000000\n",
      "75%           1.000000\n",
      "max         893.000000\n",
      "dtype: float64\n"
     ]
    },
    {
     "data": {
      "text/plain": [
       "<AxesSubplot:>"
      ]
     },
     "execution_count": 9,
     "metadata": {},
     "output_type": "execute_result"
    },
    {
     "data": {
      "image/png": "[encoded data removed]",
      "text/plain": [
       "<Figure size 640x480 with 1 Axes>"
      ]
     },
     "metadata": {},
     "output_type": "display_data"
    }
   ],
   "source": [
    "# Calcular el número de visitas por usuario\n",
    "user_visits = visits_data.groupby('Uid').size()\n",
    "\n",
    "# Distribución de la frecuencia de regreso\n",
    "print(\"Frecuencia de visitas por usuario:\")\n",
    "print(user_visits.describe())\n",
    "user_visits.hist(bins=20)\n"
   ]
  },
  {
   "cell_type": "markdown",
   "metadata": {},
   "source": [
    "<div class=\"alert alert-block alert-success\">\n",
    "<b>Comentario del revisor. (Iteración 1) </b> <a class=\"tocSkip\"></a>\n",
    "\n",
    "Lo mismo por acá. Además de los titulos, podrías colocar tus observaciones, respondiendo a algunas preguntas, como por ejemplo ¿Qué significa esa única barra? ¿Si solo hay una barra porque el dominio es tan amplio? Esto hará tu analisis más robusto."
   ]
  },
  {
   "cell_type": "markdown",
   "metadata": {},
   "source": [
    "Ventas ¿Cuándo empieza la gente a comprar?"
   ]
  },
  {
   "cell_type": "code",
   "execution_count": 10,
   "metadata": {},
   "outputs": [
    {
     "name": "stdout",
     "output_type": "stream",
     "text": [
      "Categorías de conversión:\n",
      "1y    234455\n",
      "1m     70292\n",
      "0d     53424\n",
      "1w     28811\n",
      "1d      6922\n",
      "Name: Conversion Category, dtype: int64\n"
     ]
    }
   ],
   "source": [
    "# Unir datos de visitas y pedidos por 'Uid'\n",
    "merged_data = pd.merge(visits_data, orders_data, on='Uid', how='inner')\n",
    "\n",
    "# Calcular el tiempo entre el registro (primera visita) y la primera compra\n",
    "merged_data['Conversion Time'] = (merged_data['Buy Ts'] - merged_data['Start Ts']).dt.days\n",
    "\n",
    "# Categorizar conversiones\n",
    "merged_data['Conversion Category'] = pd.cut(merged_data['Conversion Time'], \n",
    "                                            bins=[-1, 0, 1, 7, 30, 365], \n",
    "                                            labels=['0d', '1d', '1w', '1m', '1y'])\n",
    "\n",
    "# Mostrar resultados\n",
    "print(\"Categorías de conversión:\")\n",
    "print(merged_data['Conversion Category'].value_counts())\n"
   ]
  },
  {
   "cell_type": "markdown",
   "metadata": {},
   "source": [
    "¿Cuántos pedidos hacen durante un período de tiempo dado?"
   ]
  },
  {
   "cell_type": "code",
   "execution_count": 11,
   "metadata": {},
   "outputs": [
    {
     "name": "stdout",
     "output_type": "stream",
     "text": [
      "Pedidos por día:\n",
      "Buy Ts\n",
      "2017-06-01     96\n",
      "2017-06-02    111\n",
      "2017-06-03     67\n",
      "2017-06-04     66\n",
      "2017-06-05    161\n",
      "Name: Uid, dtype: int64\n"
     ]
    }
   ],
   "source": [
    "# Pedidos por día\n",
    "daily_orders = orders_data.groupby(orders_data['Buy Ts'].dt.date)['Uid'].count()\n",
    "\n",
    "# Mostrar resultados\n",
    "print(\"Pedidos por día:\")\n",
    "print(daily_orders.head())\n"
   ]
  },
  {
   "cell_type": "markdown",
   "metadata": {},
   "source": [
    "<div class=\"alert alert-block alert-success\">\n",
    "<b>Comentario del revisor. (Iteración 1) </b> <a class=\"tocSkip\"></a>\n",
    "\n",
    "Muy bien! Me gusta como vas resolviendo el proyecto."
   ]
  },
  {
   "cell_type": "markdown",
   "metadata": {},
   "source": [
    "¿Cuál es el tamaño promedio de compra?"
   ]
  },
  {
   "cell_type": "code",
   "execution_count": 12,
   "metadata": {},
   "outputs": [
    {
     "name": "stdout",
     "output_type": "stream",
     "text": [
      "Tamaño promedio de compra: 4.999646930477041\n"
     ]
    }
   ],
   "source": [
    "# Tamaño promedio de compra\n",
    "average_order_size = orders_data['Revenue'].mean()\n",
    "\n",
    "print(\"Tamaño promedio de compra:\", average_order_size)\n"
   ]
  },
  {
   "cell_type": "markdown",
   "metadata": {},
   "source": [
    "<div class=\"alert alert-block alert-success\">\n",
    "<b>Comentario del revisor. (Iteración 1) </b> <a class=\"tocSkip\"></a>\n",
    "\n",
    "Muy bien Rodrigo, pero solo hay que interpretar un poco este número. Es muy grande? Es muy pequeño? Harías alguna recomendación sobre este promedio?"
   ]
  },
  {
   "cell_type": "markdown",
   "metadata": {},
   "source": [
    "¿Cuánto dinero traen? (LTV)"
   ]
  },
  {
   "cell_type": "code",
   "execution_count": 13,
   "metadata": {},
   "outputs": [
    {
     "name": "stdout",
     "output_type": "stream",
     "text": [
      "Lifetime Value promedio por usuario: 6.901327930345262\n"
     ]
    }
   ],
   "source": [
    "# Calcular ingresos totales por usuario\n",
    "ltv_per_user = orders_data.groupby('Uid')['Revenue'].sum()\n",
    "\n",
    "print(\"Lifetime Value promedio por usuario:\", ltv_per_user.mean())\n"
   ]
  },
  {
   "cell_type": "markdown",
   "metadata": {},
   "source": [
    "<div class=\"alert alert-block alert-warning\">\n",
    "<b>Comentario del revisor. (Iteración 1) </b> <a class=\"tocSkip\"></a>\n",
    "\n",
    "Vale Rodrigo, acá hay un detalle, lo que estás calculando es el total del revenue por usuario, valdría mucho la pena que indagaras en lo que es el ltv y como calcularlo. Eso te ayudará en aprender sobre una de las aplicaciones más importantes de la Ciencia de datos. "
   ]
  },
  {
   "cell_type": "markdown",
   "metadata": {},
   "source": [
    "MARKETING: ¿Cuánto dinero se gastó?"
   ]
  },
  {
   "cell_type": "code",
   "execution_count": 14,
   "metadata": {},
   "outputs": [
    {
     "name": "stdout",
     "output_type": "stream",
     "text": [
      "Gastos totales: 329131.62\n",
      "Gastos por fuente:\n",
      "source_id\n",
      "1      20833.27\n",
      "2      42806.04\n",
      "3     141321.63\n",
      "4      61073.60\n",
      "5      51757.10\n",
      "9       5517.49\n",
      "10      5822.49\n",
      "Name: costs, dtype: float64\n"
     ]
    }
   ],
   "source": [
    "# Gastos totales y por fuente\n",
    "total_costs = costs_data['costs'].sum()\n",
    "costs_per_source = costs_data.groupby('source_id')['costs'].sum()\n",
    "\n",
    "# Mostrar resultados\n",
    "print(\"Gastos totales:\", total_costs)\n",
    "print(\"Gastos por fuente:\")\n",
    "print(costs_per_source)\n"
   ]
  },
  {
   "cell_type": "markdown",
   "metadata": {},
   "source": [
    "<div class=\"alert alert-block alert-success\">\n",
    "<b>Comentario del revisor. (Iteración 1) </b> <a class=\"tocSkip\"></a>\n",
    "\n",
    "Super bien! Muy bien!"
   ]
  },
  {
   "cell_type": "markdown",
   "metadata": {},
   "source": [
    "### CAC"
   ]
  },
  {
   "cell_type": "markdown",
   "metadata": {},
   "source": [
    "¿Cuál fue el costo de adquisición de clientes (CAC) de cada fuente?"
   ]
  },
  {
   "cell_type": "code",
   "execution_count": 6,
   "metadata": {},
   "outputs": [
    {
     "name": "stdout",
     "output_type": "stream",
     "text": [
      "   source_id  total_cost  users_acquired       CAC\n",
      "0          1    20833.27           18999  1.096546\n",
      "1          2    42806.04           26245  1.631017\n",
      "2          3   141321.63           74756  1.890439\n",
      "3          4    61073.60           83525  0.731201\n",
      "4          5    51757.10           56974  0.908434\n",
      "5          9     5517.49            9264  0.595584\n",
      "6         10     5822.49            8067  0.721766\n"
     ]
    }
   ],
   "source": [
    "# Usuarios adquiridos por fuente\n",
    "users_by_source = visits.groupby('Source Id')['Uid'].nunique().reset_index()\n",
    "users_by_source.columns = ['source_id', 'users_acquired']\n",
    "\n",
    "# Combinar con el gasto por fuente\n",
    "cac_data = spent_by_source.merge(users_by_source, on='source_id')\n",
    "cac_data['CAC'] = cac_data['total_cost'] / cac_data['users_acquired']\n",
    "\n",
    "# Resultados\n",
    "print(cac_data)\n"
   ]
  },
  {
   "cell_type": "markdown",
   "metadata": {},
   "source": [
    "<div class=\"alert alert-block alert-success\">\n",
    "<b>Comentario del revisor. (Iteración 1) </b> <a class=\"tocSkip\"></a>\n",
    "\n",
    "Ok, está muy bien el cálculo, pero si, te recomendaría de nuevo, el realizar un gráfico, siempre es bueno, poder visualizar los resultados."
   ]
  },
  {
   "cell_type": "markdown",
   "metadata": {},
   "source": [
    "### ROMI"
   ]
  },
  {
   "cell_type": "markdown",
   "metadata": {},
   "source": [
    "Retorno de la inversión en marketing (ROMI)"
   ]
  },
  {
   "cell_type": "code",
   "execution_count": 7,
   "metadata": {},
   "outputs": [
    {
     "name": "stdout",
     "output_type": "stream",
     "text": [
      "   source_id  total_cost  users_acquired       CAC  total_revenue        ROMI\n",
      "0          1    20833.27           18999  1.096546   2.298200e+06  109.313944\n",
      "1          2    42806.04           26245  1.631017   2.638189e+06   60.631237\n",
      "2          3   141321.63           74756  1.890439   2.966880e+05    1.099381\n",
      "3          4    61073.60           83525  0.731201   4.966902e+05    7.132649\n",
      "4          5    51757.10           56974  0.908434   1.181477e+06   21.827344\n",
      "5          9     5517.49            9264  0.595584   3.634225e+04    5.586736\n",
      "6         10     5822.49            8067  0.721766   1.461923e+04    1.510821\n"
     ]
    }
   ],
   "source": [
    "# Ingresos generados por fuente de adquisición\n",
    "revenue_by_source = orders.merge(visits, left_on='Uid', right_on='Uid')\n",
    "revenue_by_source = revenue_by_source.groupby('Source Id')['Revenue'].sum().reset_index()\n",
    "revenue_by_source.columns = ['source_id', 'total_revenue']\n",
    "\n",
    "# Combinar datos para calcular ROMI\n",
    "romi_data = cac_data.merge(revenue_by_source, on='source_id', how='left')\n",
    "romi_data['ROMI'] = (romi_data['total_revenue'] - romi_data['total_cost']) / romi_data['total_cost']\n",
    "\n",
    "# Resultados\n",
    "print(romi_data)\n"
   ]
  },
  {
   "cell_type": "markdown",
   "metadata": {},
   "source": [
    "Fuente con el CAC más alto:\n",
    "\n",
    "source_id 3 tiene el costo más alto (1.89), lo que podría indicar una menor eficiencia en la adquisición de usuarios.\n",
    "\n",
    "\n",
    "Fuente con el CAC más bajo:\n",
    "\n",
    "source_id 9 tiene el CAC más bajo (0.60), mostrando que esta fuente es la más rentable en términos de adquisición de clientes."
   ]
  },
  {
   "cell_type": "markdown",
   "metadata": {},
   "source": [
    "Fuente más rentable (ROMI más alto):\n",
    "\n",
    "source_id 1 tiene un ROMI de 109.31, lo que indica una inversión extremadamente efectiva en términos de retorno por cada dólar gastado.\n",
    "Fuente menos rentable (ROMI más bajo):\n",
    "\n",
    "source_id 3 tiene un ROMI de 1.10, indicando que apenas se recupera lo invertido con un retorno mínimo.\n",
    "Fuentes con ROMI moderado:\n",
    "\n",
    "source_id 5 tiene un ROMI razonable de 21.83, mostrando una inversión efectiva aunque no tan alta como source_id 1.\n",
    "Fuentes con bajo rendimiento:\n",
    "\n",
    "source_id 9 y source_id 10 tienen ROMIs menores a 6, lo que sugiere que sus costos podrían no justificarse si no se optimizan.\n"
   ]
  },
  {
   "cell_type": "markdown",
   "metadata": {},
   "source": [
    "Gráfico de ROMI por fuente"
   ]
  },
  {
   "cell_type": "markdown",
   "metadata": {},
   "source": [
    "## VISUALIZACIÓN"
   ]
  },
  {
   "cell_type": "code",
   "execution_count": 9,
   "metadata": {},
   "outputs": [
    {
     "data": {
      "image/png": "[encoded data removed]",
      "text/plain": [
       "<Figure size 640x480 with 1 Axes>"
      ]
     },
     "metadata": {},
     "output_type": "display_data"
    }
   ],
   "source": [
    "import matplotlib.pyplot as plt\n",
    "\n",
    "plt.bar(romi_data['source_id'], romi_data['ROMI'])\n",
    "plt.title('ROMI por fuente de adquisición')\n",
    "plt.xlabel('Fuente de adquisición')\n",
    "plt.ylabel('ROMI')\n",
    "plt.show()\n"
   ]
  },
  {
   "cell_type": "markdown",
   "metadata": {},
   "source": [
    "El gráfico confirma que:\n",
    "Fuente source_id 1 es altamente rentable con un ROMI superior a 100.\n",
    "Fuente source_id 2 también tiene un rendimiento positivo, aunque significativamente menor que la fuente 1.\n",
    "Fuentes como source_id 3, 9, y 10 tienen un ROMI bajo, apenas justificando su inversión."
   ]
  },
  {
   "cell_type": "markdown",
   "metadata": {},
   "source": [
    "Comparación de costos vs. ingresos:"
   ]
  },
  {
   "cell_type": "code",
   "execution_count": 10,
   "metadata": {},
   "outputs": [
    {
     "data": {
      "image/png": "[encoded data removed]",
      "text/plain": [
       "<Figure size 1000x500 with 1 Axes>"
      ]
     },
     "metadata": {},
     "output_type": "display_data"
    }
   ],
   "source": [
    "romi_data.plot(x='source_id', y=['total_cost', 'total_revenue'], kind='bar', figsize=(10, 5))\n",
    "plt.title('Comparación de costos e ingresos por fuente')\n",
    "plt.ylabel('USD ($)')\n",
    "plt.xlabel('Fuente de adquisición')\n",
    "plt.show()\n"
   ]
  },
  {
   "cell_type": "markdown",
   "metadata": {},
   "source": [
    "<div class=\"alert alert-block alert-success\">\n",
    "<b>Comentario del revisor. (Iteración 1) </b> <a class=\"tocSkip\"></a>\n",
    "\n",
    "Mira los gráficos se ven super bien, por ello te recomiendo el colocar gráficos en cada resultado que vas obteniendo, e incluso tu gráfico se ve super completo y muy claro de leer."
   ]
  },
  {
   "cell_type": "markdown",
   "metadata": {},
   "source": [
    "Las fuentes con ingresos sustancialmente superiores a los costos:\n",
    "source_id 1 y 2: Generan altos ingresos en comparación con su costo, lo que respalda su alta rentabilidad. Fuentes como:\n",
    "source_id 3 tienen costos altos en relación con los ingresos generados, lo que refleja su bajo ROMI.\n",
    "source_id 9 y 10 presentan bajos costos e ingresos, lo que indica un impacto menor en las operaciones generales."
   ]
  },
  {
   "cell_type": "markdown",
   "metadata": {},
   "source": [
    "## Conclusiones\n",
    "\n",
    "### Fuentes recomendadas:\n",
    "- **Fuente 1**: Esta fuente tiene el ROMI más alto (109.31) y un CAC razonable, lo que la hace ideal para maximizar ingresos.\n",
    "- **Fuente 2**: Aunque su ROMI es menor que la Fuente 1 (60.63), sigue siendo altamente rentable y debe mantenerse.\n",
    "- **Fuente 5**: Tiene un ROMI de 21.83, lo que la convierte en una fuente moderadamente rentable y adecuada para inversión adicional.\n",
    "\n",
    "### Fuentes a optimizar o reconsiderar:\n",
    "- **Fuente 3**: Con un ROMI bajo (1.10), esta fuente no es eficiente y podría reducirse su inversión.\n",
    "- **Fuentes 9 y 10**: Aunque tienen costos bajos, su impacto general en ingresos es limitado. Se recomienda optimización o redistribución de presupuesto.\n",
    "\n",
    "### Estrategia sugerida:\n",
    "- Aumentar la inversión en las fuentes 1 y 2.\n",
    "- Redistribuir el presupuesto de fuentes menos rentables hacia las más efectivas.\n"
   ]
  },
  {
   "cell_type": "markdown",
   "metadata": {},
   "source": [
    "<div class=\"alert alert-block alert-success\">\n",
    "<b>Comentario del revisor. (Iteración 1) </b> <a class=\"tocSkip\"></a>\n",
    "\n",
    "Te felicito por colocar tus conclusiones que además están muy completas."
   ]
  }
 ],
 "metadata": {
  "ExecuteTimeLog": [
   {
    "duration": 798,
    "start_time": "2024-11-22T14:39:32.645Z"
   },
   {
    "duration": 508,
    "start_time": "2024-11-22T14:40:24.008Z"
   },
   {
    "duration": 289,
    "start_time": "2024-11-22T14:42:57.349Z"
   },
   {
    "duration": 93,
    "start_time": "2024-11-22T14:43:16.137Z"
   },
   {
    "duration": 2001,
    "start_time": "2024-11-22T14:43:29.855Z"
   },
   {
    "duration": 157,
    "start_time": "2024-11-22T14:43:49.311Z"
   },
   {
    "duration": 113,
    "start_time": "2024-11-22T14:44:20.593Z"
   },
   {
    "duration": 18,
    "start_time": "2024-11-22T14:44:37.760Z"
   },
   {
    "duration": 5,
    "start_time": "2024-11-22T14:44:54.111Z"
   },
   {
    "duration": 10,
    "start_time": "2024-11-22T14:45:06.721Z"
   },
   {
    "duration": 5,
    "start_time": "2024-11-22T14:45:37.960Z"
   },
   {
    "duration": 162,
    "start_time": "2024-11-22T14:46:06.500Z"
   },
   {
    "duration": 852,
    "start_time": "2024-11-22T14:46:13.874Z"
   },
   {
    "duration": 159,
    "start_time": "2024-11-22T14:46:28.243Z"
   },
   {
    "duration": 12,
    "start_time": "2024-11-22T14:46:38.971Z"
   },
   {
    "duration": 12,
    "start_time": "2024-11-22T14:46:45.675Z"
   },
   {
    "duration": 11,
    "start_time": "2024-11-22T14:46:48.529Z"
   },
   {
    "duration": 887,
    "start_time": "2024-11-22T14:46:52.561Z"
   },
   {
    "duration": 276,
    "start_time": "2024-11-22T14:46:57.226Z"
   },
   {
    "duration": 91,
    "start_time": "2024-11-22T14:46:59.815Z"
   },
   {
    "duration": 338,
    "start_time": "2024-11-22T14:47:02.123Z"
   },
   {
    "duration": 153,
    "start_time": "2024-11-22T14:47:05.683Z"
   },
   {
    "duration": 123,
    "start_time": "2024-11-22T14:47:08.116Z"
   },
   {
    "duration": 17,
    "start_time": "2024-11-22T14:47:10.698Z"
   },
   {
    "duration": 4,
    "start_time": "2024-11-22T14:47:13.146Z"
   },
   {
    "duration": 11,
    "start_time": "2024-11-22T14:47:15.307Z"
   },
   {
    "duration": 6,
    "start_time": "2024-11-22T14:47:18.673Z"
   },
   {
    "duration": 158,
    "start_time": "2024-11-22T14:47:27.689Z"
   },
   {
    "duration": 345,
    "start_time": "2024-11-22T14:48:17.026Z"
   },
   {
    "duration": 14,
    "start_time": "2024-11-22T14:48:25.626Z"
   },
   {
    "duration": 517,
    "start_time": "2024-11-22T14:49:01.730Z"
   },
   {
    "duration": 163,
    "start_time": "2024-11-22T14:50:06.995Z"
   },
   {
    "duration": 15,
    "start_time": "2024-11-22T14:51:40.058Z"
   },
   {
    "duration": 16,
    "start_time": "2024-11-22T14:53:01.971Z"
   },
   {
    "duration": 343,
    "start_time": "2024-11-22T14:53:11.274Z"
   },
   {
    "duration": 165,
    "start_time": "2024-11-22T15:56:31.773Z"
   },
   {
    "duration": 843,
    "start_time": "2024-11-22T15:57:35.464Z"
   },
   {
    "duration": 146,
    "start_time": "2024-11-22T15:58:05.725Z"
   },
   {
    "duration": 6,
    "start_time": "2024-11-22T15:59:43.434Z"
   },
   {
    "duration": 8,
    "start_time": "2024-11-22T15:59:52.912Z"
   },
   {
    "duration": 62,
    "start_time": "2024-11-22T16:00:05.371Z"
   },
   {
    "duration": 115,
    "start_time": "2024-11-22T16:00:32.062Z"
   },
   {
    "duration": 5,
    "start_time": "2024-11-22T16:13:58.715Z"
   },
   {
    "duration": 2088,
    "start_time": "2024-11-22T16:14:55.313Z"
   },
   {
    "duration": 193,
    "start_time": "2024-11-22T16:15:43.249Z"
   },
   {
    "duration": 5,
    "start_time": "2024-11-22T16:29:36.660Z"
   },
   {
    "duration": 3,
    "start_time": "2024-11-22T16:32:02.747Z"
   },
   {
    "duration": 2,
    "start_time": "2024-11-22T16:32:24.147Z"
   }
  ],
  "kernelspec": {
   "display_name": "Python 3 (ipykernel)",
   "language": "python",
   "name": "python3"
  },
  "language_info": {
   "codemirror_mode": {
    "name": "ipython",
    "version": 3
   },
   "file_extension": ".py",
   "mimetype": "text/x-python",
   "name": "python",
   "nbconvert_exporter": "python",
   "pygments_lexer": "ipython3",
   "version": "3.9.19"
  },
  "toc": {
   "base_numbering": 1,
   "nav_menu": {},
   "number_sections": true,
   "sideBar": true,
   "skip_h1_title": true,
   "title_cell": "Table of Contents",
   "title_sidebar": "Contents",
   "toc_cell": false,
   "toc_position": {
    "height": "calc(100% - 180px)",
    "left": "10px",
    "top": "150px",
    "width": "503.797px"
   },
   "toc_section_display": true,
   "toc_window_display": false
  }
 },
 "nbformat": 4,
 "nbformat_minor": 2
}
